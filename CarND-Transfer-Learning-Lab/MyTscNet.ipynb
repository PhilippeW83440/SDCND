{
 "cells": [
  {
   "cell_type": "markdown",
   "metadata": {},
   "source": [
    "# Self-Driving Car Engineer Nanodegree\n",
    "\n",
    "## Deep Learning\n",
    "\n"
   ]
  },
  {
   "cell_type": "markdown",
   "metadata": {},
   "source": [
    "---\n",
    "## Step 0: Load The Data"
   ]
  },
  {
   "cell_type": "code",
   "execution_count": null,
   "metadata": {
    "collapsed": false
   },
   "outputs": [],
   "source": [
    "from keras.datasets import cifar10\n",
    "(X_train, y_train), (X_test, y_test) = cifar10.load_data()\n",
    "# y_train.shape is 2d, (50000, 1). While Keras is smart enough to handle this\n",
    "# it's a good idea to flatten the array.\n",
    "y_train = y_train.reshape(-1)\n",
    "y_test = y_test.reshape(-1)\n"
   ]
  },
  {
   "cell_type": "code",
   "execution_count": null,
   "metadata": {
    "collapsed": false
   },
   "outputs": [],
   "source": [
    "print(X_train.shape)\n",
    "print(y_train.shape)\n",
    "print(X_test.shape)\n",
    "print(y_test.shape)"
   ]
  },
  {
   "cell_type": "code",
   "execution_count": null,
   "metadata": {
    "collapsed": true
   },
   "outputs": [],
   "source": [
    "from sklearn.model_selection import train_test_split\n",
    "\n",
    "X_train, X_valid, y_train, y_valid = train_test_split(X_train, y_train,\n",
    "                                                 test_size=0.2, random_state=0)"
   ]
  },
  {
   "cell_type": "code",
   "execution_count": null,
   "metadata": {
    "collapsed": false
   },
   "outputs": [],
   "source": [
    "type(X_train)\n",
    "print(X_train.shape)\n",
    "print(y_train.shape)\n",
    "print(X_valid.shape)\n",
    "print(y_valid.shape)\n",
    "print(X_test.shape)\n",
    "print(y_test.shape)\n",
    "\n",
    "print(y_train[0])"
   ]
  },
  {
   "cell_type": "markdown",
   "metadata": {},
   "source": [
    "---\n",
    "\n",
    "## Step 1: Dataset Summary & Exploration\n",
    "\n",
    "The pickled data is a dictionary with 4 key/value pairs:\n",
    "\n",
    "- `'features'` is a 4D array containing raw pixel data of the traffic sign images, (num examples, width, height, channels).\n",
    "- `'labels'` is a 1D array containing the label/class id of the traffic sign. The file `signnames.csv` contains id -> name mappings for each id.\n",
    "- `'sizes'` is a list containing tuples, (width, height) representing the original width and height the image.\n",
    "- `'coords'` is a list containing tuples, (x1, y1, x2, y2) representing coordinates of a bounding box around the sign in the image. **THESE COORDINATES ASSUME THE ORIGINAL IMAGE. THE PICKLED DATA CONTAINS RESIZED VERSIONS (32 by 32) OF THESE IMAGES**\n",
    "\n",
    "Complete the basic data summary below. Use python, numpy and/or pandas methods to calculate the data summary rather than hard coding the results. For example, the [pandas shape method](http://pandas.pydata.org/pandas-docs/stable/generated/pandas.DataFrame.shape.html) might be useful for calculating some of the summary results. "
   ]
  },
  {
   "cell_type": "code",
   "execution_count": null,
   "metadata": {
    "collapsed": false
   },
   "outputs": [],
   "source": [
    "\n",
    "### Data exploration visualization code goes here.\n",
    "### Feel free to use as many code cells as needed.\n",
    "import random\n",
    "import matplotlib.pyplot as plt\n",
    "# Visualizations will be shown in the notebook.\n",
    "%matplotlib inline\n",
    "\n",
    "index = random.randint(0, len(X_train))\n",
    "image = X_train[index]\n",
    "label = y_train[index]\n",
    "\n",
    "plt.figure(figsize=(1,1))\n",
    "#plt.title('Label %d: %s' % (label, df.loc[label]['SignName']))\n",
    "plt.imshow(image)\n",
    "\n",
    "index = random.randint(0, len(X_train))\n",
    "image = X_train[index]\n",
    "label = y_train[index]\n",
    "\n",
    "plt.figure(figsize=(1,2))\n",
    "#plt.title('Label %d: %s' % (label, df.loc[label]['SignName']))\n",
    "plt.imshow(image)\n",
    "\n"
   ]
  },
  {
   "cell_type": "code",
   "execution_count": null,
   "metadata": {
    "collapsed": true
   },
   "outputs": [],
   "source": [
    "import numpy as np\n",
    "import matplotlib.pyplot as plt"
   ]
  },
  {
   "cell_type": "markdown",
   "metadata": {},
   "source": [
    "### Provide a Basic Summary of the Data Set Using Python, Numpy and/or Pandas"
   ]
  },
  {
   "cell_type": "markdown",
   "metadata": {},
   "source": [
    "### Include an exploratory visualization of the dataset"
   ]
  },
  {
   "cell_type": "code",
   "execution_count": null,
   "metadata": {
    "collapsed": false
   },
   "outputs": [],
   "source": [
    "#count of each type image\n",
    "unique, index, counts = np.unique(y_train, return_index=True, return_counts=True)\n",
    "\n",
    "#Plotting the bar graph of the frequency of classes \n",
    "plt.bar(unique, counts, 1)\n",
    "plt.title('Train Class Frequency')\n",
    "plt.xlabel('Class')\n",
    "plt.ylabel('Frequency')\n",
    "plt.show()"
   ]
  },
  {
   "cell_type": "markdown",
   "metadata": {},
   "source": [
    "----\n",
    "\n",
    "## Step 2: Design and Test a Model Architecture\n",
    "\n",
    "Design and implement a deep learning model that learns to recognize traffic signs. "
   ]
  },
  {
   "cell_type": "markdown",
   "metadata": {},
   "source": [
    "### Pre-process the Data Set (normalization, grayscale, etc.)"
   ]
  },
  {
   "cell_type": "markdown",
   "metadata": {},
   "source": [
    "Use the code cell (or multiple code cells, if necessary) to implement the first step of your project."
   ]
  },
  {
   "cell_type": "code",
   "execution_count": null,
   "metadata": {
    "collapsed": true
   },
   "outputs": [],
   "source": [
    "import numpy as np\n",
    "from __future__ import division\n",
    "import cv2"
   ]
  },
  {
   "cell_type": "code",
   "execution_count": null,
   "metadata": {
    "collapsed": false
   },
   "outputs": [],
   "source": [
    "### Preprocess the data here. Preprocessing steps could include normalization, converting to grayscale, etc.\n",
    "### Feel free to use as many code cells as needed.\n",
    "\n",
    "def normalize(X):\n",
    "    Y = np.zeros_like(X, dtype=np.float32)\n",
    "    for i in range(X.shape[0]):\n",
    "        for ch in range(X.shape[3]):\n",
    "            X[i,:,:,ch] = cv2.equalizeHist(X[i,:,:,ch])\n",
    "            mu = np.mean(X[i, :, :, ch])\n",
    "            std = np.std(X[i, :, :, ch])\n",
    "            Y[i, :, :, ch] = (X[i, :, :, ch] - mu) / std\n",
    "    return Y\n"
   ]
  },
  {
   "cell_type": "code",
   "execution_count": null,
   "metadata": {
    "collapsed": true
   },
   "outputs": [],
   "source": [
    "\n",
    "import math\n",
    "import numpy as np\n",
    "import random\n",
    "\n",
    "# use opencv to do geometric perturbations\n",
    "# Thanks to hengcherkeng (another Udacity SDCND student) for this function\n",
    "def perturb(image, keep, angle_limit=2*15, scale_limit=0.1, translate_limit=3, distort_limit=3, illumin_limit=0.7):\n",
    "    \n",
    "    u=np.random.uniform()\n",
    "    if u>keep :\n",
    "        #geometric -------------\n",
    "        (W, H, C) = image.shape\n",
    "        center = np.array([W / 2., H / 2.])\n",
    "        da = np.random.uniform(low=-1, high=1) * angle_limit/180. * math.pi\n",
    "        scale = np.random.uniform(low=-1, high=1) * scale_limit + 1\n",
    "\n",
    "        cc = scale*math.cos(da)\n",
    "        ss = scale*math.sin(da)\n",
    "        rotation    = np.array([[cc, ss],[-ss,cc]])\n",
    "        translation = np.random.uniform(low=-1, high=1, size=(1,2)) * translate_limit\n",
    "        distort     = np.random.standard_normal(size=(4,2)) * distort_limit\n",
    "\n",
    "        pts1 = np.array([[0., 0.], [0., H], [W, H], [W, 0.]])\n",
    "        pts2 = np.matmul(pts1-center, rotation) + center  + translation\n",
    "\n",
    "        #add perspective noise\n",
    "        pts2 = pts2 + distort\n",
    "\n",
    "        #http://milindapro.blogspot.jp/2015/05/opencv-filters-copymakeborder.html\n",
    "        matrix  = cv2.getPerspectiveTransform(pts1.astype(np.float32), pts2.astype(np.float32))\n",
    "        #matrix  = cv2.getPerspectiveTransform(pts1.astype(np.float32), pts1.astype(np.float32))\n",
    "        #perturb = cv2.warpPerspective(image, matrix, (W, H))  # BORDER_WRAP  #BORDER_REFLECT_101  #cv2.BORDER_CONSTANT  BORDER_REPLICATE\n",
    "        perturb = cv2.warpPerspective(image, matrix, (W, H), flags=cv2.INTER_LINEAR,borderMode=cv2.BORDER_REPLICATE)\n",
    "                       #               borderMode=cv2.BORDER_REFLECT_101)  # BORDER_WRAP  #BORDER_REFLECT_101  #cv2.BORDER_CONSTANT  BORDER_REPLICATE\n",
    "        \n",
    "        return perturb\n",
    "\n",
    "    else:\n",
    "        return image\n",
    "    \n",
    "    \n",
    "def make_perturb_images(images, keep ):\n",
    "    arguments = np.zeros(images.shape, dtype=np.uint8)\n",
    "    for n in range(len(images)):\n",
    "        arguments[n] = perturb(images[n],keep = keep)\n",
    "\n",
    "    return arguments\n",
    "\n",
    "def make_perturb_images_float(images, keep ):\n",
    "    arguments = np.zeros(images.shape, dtype=np.float32)\n",
    "    for n in range(len(images)):\n",
    "        arguments[n] = perturb(images[n],keep = keep)\n",
    "\n",
    "    return arguments\n",
    "\n",
    "X_train_perturb = make_perturb_images(X_train, keep=0.1)\n",
    "y_train_perturb = np.copy(y_train)"
   ]
  },
  {
   "cell_type": "code",
   "execution_count": null,
   "metadata": {
    "collapsed": false
   },
   "outputs": [],
   "source": [
    "import random\n",
    "import numpy as np\n",
    "import matplotlib.pyplot as plt\n",
    "%matplotlib inline\n",
    "\n",
    "index = random.randint(0, len(X_train))\n",
    "image = X_train[index].squeeze()\n",
    "\n",
    "plt.figure(figsize=(1,1))\n",
    "plt.imshow(image)\n",
    "print(y_train[index])\n",
    "#print(X_train[index])\n",
    "\n",
    "image = X_train_perturb[index].squeeze()\n",
    "plt.figure(figsize=(1,2))\n",
    "plt.imshow(image)\n",
    "print(y_train[index])\n",
    "#print(X_train_perturb[index])"
   ]
  },
  {
   "cell_type": "code",
   "execution_count": null,
   "metadata": {
    "collapsed": false
   },
   "outputs": [],
   "source": [
    "print(X_train.shape)"
   ]
  },
  {
   "cell_type": "code",
   "execution_count": null,
   "metadata": {
    "collapsed": false
   },
   "outputs": [],
   "source": [
    "X_train = normalize(X_train)\n",
    "X_valid = normalize(X_valid)\n",
    "X_test = normalize(X_test)\n",
    "n_channels = 3"
   ]
  },
  {
   "cell_type": "markdown",
   "metadata": {},
   "source": [
    "### Model Architecture"
   ]
  },
  {
   "cell_type": "code",
   "execution_count": null,
   "metadata": {
    "collapsed": true
   },
   "outputs": [],
   "source": [
    "import tensorflow as tf\n",
    "from tensorflow.contrib.layers import flatten"
   ]
  },
  {
   "cell_type": "code",
   "execution_count": null,
   "metadata": {
    "collapsed": true
   },
   "outputs": [],
   "source": [
    "nb_classes = 10"
   ]
  },
  {
   "cell_type": "code",
   "execution_count": null,
   "metadata": {
    "collapsed": false
   },
   "outputs": [],
   "source": [
    " # Xavier-Glorot initialization\n",
    "# [-sqrt(6)/sqrt(size), sqrt(6)/sqrt(size)]\n",
    "\n",
    "# where size is the total size of the weight matrix being initialized. This is how I wrote it in Tensorflow:\n",
    "\n",
    "# shp = (3, 3, 32, 32)\n",
    "# sz = shp[0] * shp[1] * shp[2] * shp[3]\n",
    "\n",
    "# conv2_W = tf.Variable(tf.random_uniform(shape=shp, minval= -2.45/np.sqrt(sz), maxval=2.45/np.sqrt(sz)))\n",
    "\n",
    "def XavierInit(shape, name):\n",
    "    n = 1\n",
    "    for i in range(len(shape)):\n",
    "        n *= shape[i]\n",
    "    return tf.Variable(tf.random_uniform(shape=shape, minval= -np.sqrt(6)/np.sqrt(n), maxval=np.sqrt(6)/np.sqrt(n)), name=name)\n"
   ]
  },
  {
   "cell_type": "code",
   "execution_count": null,
   "metadata": {
    "collapsed": false
   },
   "outputs": [],
   "source": [
    "### Define your architecture here.\n",
    "### Feel free to use as many code cells as needed.\n",
    "\n",
    "def LeNetImproved(x, keep_prob):    \n",
    "    mu = 0\n",
    "    sigma = 0.05\n",
    "    \n",
    "    n_filt1 = 48 # 48 # 24 # 12 # 6    \n",
    "    n_filt2 = 128 # 128 # 64 # 32 # 16\n",
    "    n_filt3 = 128\n",
    "    n_fc1 = 1024 # 120 # 1024 # 512 # 120\n",
    "    n_fc2 = 84 # 84 # 84 # 512 # 256 # 84    \n",
    "    \n",
    "    n_output = nb_classes\n",
    "    \n",
    "    # conv: SAME\n",
    "    \n",
    "    conv0_W = tf.Variable(tf.truncated_normal(shape=(1, 1, n_channels, n_channels), mean = mu, stddev = sigma), name='conv0W')\n",
    "    conv0_b = tf.Variable(tf.zeros(n_channels))\n",
    "    conv0   = tf.nn.conv2d(x, conv0_W, strides=[1, 1, 1, 1], padding='SAME') + conv0_b\n",
    "    \n",
    "    # Layer 1: Convolutional. Input = 32x32x1. Output = 28x28x6.\n",
    "    \n",
    "    conv1_W = tf.Variable(tf.truncated_normal(shape=(5, 5, n_channels, n_filt1), mean = mu, stddev = sigma), name='conv1W')\n",
    "    conv1_b = tf.Variable(tf.zeros(n_filt1))\n",
    "    conv1   = tf.nn.conv2d(conv0, conv1_W, strides=[1, 1, 1, 1], padding='VALID') + conv1_b\n",
    "    conv1r = tf.nn.relu(conv1)\n",
    "    \n",
    "    # Pooling. Input = 28x28x6. Output = 14x14x6.\n",
    "    conv1 = tf.nn.max_pool(conv1r, ksize=[1, 2, 2, 1], strides=[1, 2, 2, 1], padding='VALID')\n",
    "\n",
    "\n",
    "    # Layer 2: Convolutional. Output = 10x10x16.\n",
    "    conv2_W = tf.Variable(tf.truncated_normal(shape=(3, 3, n_filt1, n_filt2), mean = mu, stddev = sigma), name='conv2W')\n",
    "    conv2_b = tf.Variable(tf.zeros(n_filt2))\n",
    "    conv2   = tf.nn.conv2d(conv1, conv2_W, strides=[1, 1, 1, 1], padding='VALID') + conv2_b    \n",
    "    conv2 = tf.nn.relu(conv2)\n",
    "    \n",
    "    # SOLUTION: Pooling. Input = 10x10x16. Output = 5x5x16.\n",
    "    conv2 = tf.nn.max_pool(conv2, ksize=[1, 2, 2, 1], strides=[1, 2, 2, 1], padding='VALID')\n",
    "\n",
    "    conv3_W = tf.Variable(tf.truncated_normal(shape=(3, 3, n_filt2, n_filt3), mean = mu, stddev = sigma), name='conv3W')\n",
    "    conv3_b = tf.Variable(tf.zeros(n_filt3))\n",
    "    conv3   = tf.nn.conv2d(conv2, conv3_W, strides=[1, 1, 1, 1], padding='VALID') + conv3_b    \n",
    "    conv3 = tf.nn.relu(conv3)\n",
    "    \n",
    "    # Pooling. Input = 10x10x16. Output = 5x5x16.\n",
    "    conv3 = tf.nn.max_pool(conv3, ksize=[1, 2, 2, 1], strides=[1, 2, 2, 1], padding='VALID')\n",
    "    \n",
    "    # added for later on visualization\n",
    "    tf.add_to_collection('vars', conv1_W)\n",
    "    tf.add_to_collection('vars', conv2_W)\n",
    "\n",
    "    # Flatten all three conv layers and concat\n",
    "    print(conv1)\n",
    "    print(conv2)\n",
    "    print(conv3)\n",
    "    conv1_f = flatten(conv1)\n",
    "    conv2_f = flatten(conv2)\n",
    "    conv3_f = flatten(conv3)\n",
    "    fc0 = tf.concat(1,[conv1_f,conv2_f]) #flatten(conv3)\n",
    "    fc0 = tf.concat(1,[fc0,conv3_f])\n",
    "    \n",
    "    #print(fc0.get_shape().as_list())\n",
    "    \n",
    "    # Flatten. Input = 5x5x16. Output = 400.\n",
    "    #fc0   = flatten(conv3)\n",
    "    \n",
    "    # Layer 3: Fully Connected. Input = 400. Output = 120.\n",
    "    #fc1_W = tf.Variable(tf.truncated_normal(shape=(2*2*n_filt3, n_fc1), mean = mu, stddev = sigma), name='FC1W')\n",
    "    fc1_W = tf.Variable(tf.truncated_normal(shape=(fc0.get_shape().as_list()[-1], n_fc1), mean = mu, stddev = sigma), name='FC1W')\n",
    "    fc1_b = tf.Variable(tf.zeros(n_fc1))\n",
    "    fc1   = tf.matmul(fc0, fc1_W) + fc1_b\n",
    "    \n",
    "    #fc1 = tf.contrib.layers.batch_norm(fc1, center=True, scale=True, is_training=phase)\n",
    "    fc1    = tf.nn.relu(fc1)\n",
    "    fc1 = tf.nn.dropout(fc1, keep_prob)\n",
    "\n",
    "    # Layer 4: Fully Connected. Input = 120. Output = 84.\n",
    "    fc2_W  = tf.Variable(tf.truncated_normal(shape=(n_fc1, n_fc2), mean = mu, stddev = sigma), name='FC2W')\n",
    "    fc2_b  = tf.Variable(tf.zeros(n_fc2))\n",
    "    fc2    = tf.matmul(fc1, fc2_W) + fc2_b\n",
    "    \n",
    "    #fc2 = tf.contrib.layers.batch_norm(fc2, center=True, scale=True, is_training=phase)\n",
    "    fc2    = tf.nn.relu(fc2)\n",
    "    fc2 = tf.nn.dropout(fc2, keep_prob)\n",
    "\n",
    "    # Layer 5: Fully Connected. Input = 84. Output = 10.\n",
    "    fc3_W  = tf.Variable(tf.truncated_normal(shape=(n_fc2, n_output), mean = mu, stddev = sigma), name='FC3W')\n",
    "    fc3_b  = tf.Variable(tf.zeros(n_output))\n",
    "    logits = tf.matmul(fc2, fc3_W) + fc3_b\n",
    "    \n",
    "    regularizer = tf.nn.l2_loss(conv1_W) + tf.nn.l2_loss(conv2_W) + tf.nn.l2_loss(fc1_W) + tf.nn.l2_loss(fc2_W) + tf.nn.l2_loss(fc3_W)\n",
    "\n",
    "    return (logits, regularizer, conv1r)"
   ]
  },
  {
   "cell_type": "code",
   "execution_count": null,
   "metadata": {
    "collapsed": true
   },
   "outputs": [],
   "source": [
    "\n",
    "def LeNetX(x, keep_prob, keep_prob1, keep_prob2, keep_prob3):    \n",
    "    mu = 0\n",
    "    sigma = 0.05\n",
    "    \n",
    "    n_filt1 = 48 # 48 # 24 # 12 # 6    \n",
    "    n_filt2 = 128 # 128 # 64 # 32 # 16\n",
    "    n_filt3 = 128\n",
    "    n_fc1 = 1024 # 1024 # 120 # 1024 # 512 # 120\n",
    "    n_fc2 = 84 # 84 # 84 # 84 # 512 # 256 # 84    \n",
    "    \n",
    "    n_output = nb_classes\n",
    "    \n",
    "    # conv: SAME\n",
    "    \n",
    "    conv0_W = tf.Variable(tf.truncated_normal(shape=(1, 1, n_channels, n_channels), mean = mu, stddev = sigma), name='conv0W')\n",
    "    conv0_b = tf.Variable(tf.zeros(n_channels))\n",
    "    conv0   = tf.nn.conv2d(x, conv0_W, strides=[1, 1, 1, 1], padding='SAME') + conv0_b\n",
    "    \n",
    "    # Layer 1: Convolutional. Input = 32x32x1. Output = 28x28x6.\n",
    "    \n",
    "    conv1_W = tf.Variable(tf.truncated_normal(shape=(5, 5, n_channels, n_filt1), mean = mu, stddev = sigma), name='conv1W')\n",
    "    conv1_b = tf.Variable(tf.zeros(n_filt1))\n",
    "    conv1   = tf.nn.conv2d(conv0, conv1_W, strides=[1, 1, 1, 1], padding='SAME') + conv1_b\n",
    "    conv1 = tf.nn.relu(conv1)\n",
    "    \n",
    "    conv1r = conv1 # return conv1 for visu\n",
    "    \n",
    "    conv1b_W = tf.Variable(tf.truncated_normal(shape=(5, 5, n_filt1, n_filt1), mean = mu, stddev = sigma))\n",
    "    conv1b_b = tf.Variable(tf.zeros(n_filt1))\n",
    "    conv1b   = tf.nn.conv2d(conv1, conv1b_W, strides=[1, 1, 1, 1], padding='SAME') + conv1b_b\n",
    "    conv1b = tf.nn.relu(conv1b)\n",
    "    \n",
    "    # Pooling. Input = 28x28x6. Output = 14x14x6.\n",
    "    conv1 = tf.nn.max_pool(conv1b, ksize=[1, 2, 2, 1], strides=[1, 2, 2, 1], padding='VALID')\n",
    "    conv1 = tf.nn.dropout(conv1, keep_prob1)\n",
    "\n",
    "    # Layer 2: Convolutional. Output = 10x10x16.\n",
    "    conv2_W = tf.Variable(tf.truncated_normal(shape=(3, 3, n_filt1, n_filt2), mean = mu, stddev = sigma), name='conv2W')\n",
    "    conv2_b = tf.Variable(tf.zeros(n_filt2))\n",
    "    conv2   = tf.nn.conv2d(conv1, conv2_W, strides=[1, 1, 1, 1], padding='SAME') + conv2_b    \n",
    "    conv2 = tf.nn.relu(conv2)\n",
    "    \n",
    "    conv2b_W = tf.Variable(tf.truncated_normal(shape=(3, 3, n_filt2, n_filt2), mean = mu, stddev = sigma))\n",
    "    conv2b_b = tf.Variable(tf.zeros(n_filt2))\n",
    "    conv2b   = tf.nn.conv2d(conv2, conv2b_W, strides=[1, 1, 1, 1], padding='SAME') + conv2b_b    \n",
    "    conv2b = tf.nn.relu(conv2b)\n",
    "    \n",
    "    # SOLUTION: Pooling. Input = 10x10x16. Output = 5x5x16.\n",
    "    conv2 = tf.nn.max_pool(conv2b, ksize=[1, 2, 2, 1], strides=[1, 2, 2, 1], padding='VALID')\n",
    "    conv2 = tf.nn.dropout(conv2, keep_prob2)\n",
    "\n",
    "    conv3_W = tf.Variable(tf.truncated_normal(shape=(3, 3, n_filt2, n_filt3), mean = mu, stddev = sigma), name='conv3W')\n",
    "    conv3_b = tf.Variable(tf.zeros(n_filt3))\n",
    "    conv3   = tf.nn.conv2d(conv2, conv3_W, strides=[1, 1, 1, 1], padding='SAME') + conv3_b    \n",
    "    conv3 = tf.nn.relu(conv3)\n",
    "    \n",
    "    conv3b_W = tf.Variable(tf.truncated_normal(shape=(3, 3, n_filt3, n_filt3), mean = mu, stddev = sigma))\n",
    "    conv3b_b = tf.Variable(tf.zeros(n_filt3))\n",
    "    conv3b   = tf.nn.conv2d(conv3, conv3b_W, strides=[1, 1, 1, 1], padding='SAME') + conv3b_b    \n",
    "    conv3b = tf.nn.relu(conv3b)\n",
    "    \n",
    "    # Pooling. Input = 10x10x16. Output = 5x5x16.\n",
    "    conv3 = tf.nn.max_pool(conv3b, ksize=[1, 2, 2, 1], strides=[1, 2, 2, 1], padding='VALID')\n",
    "    conv3 = tf.nn.dropout(conv3, keep_prob3)\n",
    "    \n",
    "    # added for later on visualization\n",
    "    tf.add_to_collection('vars', conv1_W)\n",
    "    tf.add_to_collection('vars', conv2_W)\n",
    "\n",
    "    # Flatten all three conv layers and concat\n",
    "    print(conv1)\n",
    "    print(conv2)\n",
    "    print(conv3)\n",
    "    conv1_f = flatten(conv1)\n",
    "    conv2_f = flatten(conv2)\n",
    "    conv3_f = flatten(conv3)\n",
    "    fc0 = tf.concat(1,[conv1_f,conv2_f]) #flatten(conv3)\n",
    "    fc0 = tf.concat(1,[fc0,conv3_f])\n",
    "    \n",
    "    #print(fc0.get_shape().as_list())\n",
    "    \n",
    "    # Flatten. Input = 5x5x16. Output = 400.\n",
    "    #fc0   = flatten(conv3)\n",
    "    \n",
    "    # Layer 3: Fully Connected. Input = 400. Output = 120.\n",
    "    #fc1_W = tf.Variable(tf.truncated_normal(shape=(2*2*n_filt3, n_fc1), mean = mu, stddev = sigma), name='FC1W')\n",
    "    fc1_W = tf.Variable(tf.truncated_normal(shape=(fc0.get_shape().as_list()[-1], n_fc1), mean = mu, stddev = sigma), name='FC1W')\n",
    "    fc1_b = tf.Variable(tf.zeros(n_fc1))\n",
    "    fc1   = tf.matmul(fc0, fc1_W) + fc1_b\n",
    "    \n",
    "    #fc1 = tf.contrib.layers.batch_norm(fc1, center=True, scale=True, is_training=phase)\n",
    "    fc1    = tf.nn.relu(fc1)\n",
    "    fc1 = tf.nn.dropout(fc1, keep_prob)\n",
    "\n",
    "    # Layer 4: Fully Connected. Input = 120. Output = 84.\n",
    "    fc2_W  = tf.Variable(tf.truncated_normal(shape=(n_fc1, n_fc2), mean = mu, stddev = sigma), name='FC2W')\n",
    "    fc2_b  = tf.Variable(tf.zeros(n_fc2))\n",
    "    fc2    = tf.matmul(fc1, fc2_W) + fc2_b\n",
    "    \n",
    "    #fc2 = tf.contrib.layers.batch_norm(fc2, center=True, scale=True, is_training=phase)\n",
    "    fc2    = tf.nn.relu(fc2)\n",
    "    fc2 = tf.nn.dropout(fc2, keep_prob)\n",
    "\n",
    "    # Layer 5: Fully Connected. Input = 84. Output = 10.\n",
    "    fc3_W  = tf.Variable(tf.truncated_normal(shape=(n_fc2, n_output), mean = mu, stddev = sigma), name='FC3W')\n",
    "    fc3_b  = tf.Variable(tf.zeros(n_output))\n",
    "    logits = tf.matmul(fc2, fc3_W) + fc3_b\n",
    "    \n",
    "    regularizer = tf.nn.l2_loss(fc1_W) + tf.nn.l2_loss(fc2_W) + tf.nn.l2_loss(fc3_W)\n",
    "\n",
    "    return (logits, regularizer, conv1r)"
   ]
  },
  {
   "cell_type": "markdown",
   "metadata": {},
   "source": [
    "### Train, Validate and Test the Model"
   ]
  },
  {
   "cell_type": "code",
   "execution_count": null,
   "metadata": {
    "collapsed": false
   },
   "outputs": [],
   "source": [
    "x = tf.placeholder(tf.float32, (None, 32, 32, n_channels))\n",
    "y = tf.placeholder(tf.int32, (None))\n",
    "keep_prob = tf.placeholder(tf.float32) # probability to keep units\n",
    "keep_prob1 = tf.placeholder(tf.float32) # probability to keep units\n",
    "keep_prob2 = tf.placeholder(tf.float32) # probability to keep units\n",
    "keep_prob3 = tf.placeholder(tf.float32) # probability to keep units\n",
    "#k_p_conv = tf.placeholder( tf.float32)\n",
    "#is_training = tf.placeholder(tf.bool)\n",
    "one_hot_y = tf.one_hot(y, nb_classes)\n",
    "\n",
    "rate = tf.placeholder( tf.float32, name='rate')\n"
   ]
  },
  {
   "cell_type": "code",
   "execution_count": null,
   "metadata": {
    "collapsed": false
   },
   "outputs": [],
   "source": [
    "EPOCHS = 50 # 50 # 100\n",
    "BATCH_SIZE = 128 # 128\n",
    "\n",
    "#rate = 0.001\n",
    "reg_rate = 1e-4\n",
    "\n",
    "#logits, regularizer, conv1_activation = LeNetImproved(x, keep_prob)\n",
    "logits, regularizer, conv1_activation = LeNetX(x, keep_prob, keep_prob1, keep_prob2, keep_prob3)\n",
    "\n",
    "\n",
    "cross_entropy = tf.nn.softmax_cross_entropy_with_logits(logits, one_hot_y)\n",
    "\n",
    "#beta = 0.0001\n",
    "#loss_reg = beta * (tf.nn.l2_loss(weights['W_fc1']) + tf.nn.l2_loss(weights['W_fc2']) + tf.nn.l2_loss(weights['W_fc3']) )\n",
    "#loss_operation = tf.reduce_mean( cross_entropy ) + loss_reg\n",
    "\n",
    "loss_operation = tf.reduce_mean(cross_entropy)\n",
    "#loss_operation = loss_operation + reg_rate * regularizer\n",
    "\n",
    "optimizer = tf.train.AdamOptimizer(learning_rate = rate)\n",
    "training_operation = optimizer.minimize(loss_operation)"
   ]
  },
  {
   "cell_type": "code",
   "execution_count": null,
   "metadata": {
    "collapsed": true
   },
   "outputs": [],
   "source": [
    "correct_prediction = tf.equal(tf.argmax(logits, 1), tf.argmax(one_hot_y, 1))\n",
    "accuracy_operation = tf.reduce_mean(tf.cast(correct_prediction, tf.float32))\n",
    "saver = tf.train.Saver()\n",
    "\n",
    "def evaluate(X_data, y_data):\n",
    "    num_examples = len(X_data)\n",
    "    total_accuracy = 0\n",
    "    sess = tf.get_default_session()\n",
    "    for offset in range(0, num_examples, BATCH_SIZE):\n",
    "        batch_x, batch_y = X_data[offset:offset+BATCH_SIZE], y_data[offset:offset+BATCH_SIZE]\n",
    "        accuracy = sess.run(accuracy_operation, feed_dict={x: batch_x, y: batch_y,keep_prob1: 1.0, \n",
    "                                                           keep_prob2: 1.0, keep_prob3: 1.0, keep_prob: 1.0})\n",
    "        #accuracy = sess.run(accuracy_operation, feed_dict={x: batch_x, y: batch_y, keep_prob: 1.0})\n",
    "        #accuracy = sess.run(accuracy_operation, feed_dict={x: batch_x, y: batch_y, k_p_conv:1.0, keep_prob: 1.0 })\n",
    "        total_accuracy += (accuracy * len(batch_x))\n",
    "    return total_accuracy / num_examples"
   ]
  },
  {
   "cell_type": "markdown",
   "metadata": {},
   "source": [
    "A validation set can be used to assess how well the model is performing. A low accuracy on the training and validation\n",
    "sets imply underfitting. A high accuracy on the training set but low accuracy on the validation set implies overfitting."
   ]
  },
  {
   "cell_type": "code",
   "execution_count": null,
   "metadata": {
    "collapsed": false
   },
   "outputs": [],
   "source": [
    "### Train your model here.\n",
    "### Calculate and report the accuracy on the training and validation set.\n",
    "### Once a final model architecture is selected, \n",
    "### the accuracy on the test set should be calculated and reported as well.\n",
    "### Feel free to use as many code cells as needed.\n",
    "\n",
    "from sklearn.utils import shuffle\n",
    "\n",
    "N_AUGMENT = 1\n",
    "X_train_perturb = [None] * N_AUGMENT\n",
    "y_train_perturb = [None] * N_AUGMENT\n",
    "\n",
    "TRAIN_AUGMENT = 8\n",
    "\n",
    "LR=0.001\n",
    "\n",
    "with tf.Session() as sess:\n",
    "    sess.run(tf.global_variables_initializer())\n",
    "    num_examples = len(X_train)\n",
    "    \n",
    "    print(\"Training...\")\n",
    "    print()\n",
    "    best_accuracy = 0.0\n",
    "    for i in range(EPOCHS):\n",
    "        \n",
    "        if i >= 25:\n",
    "            LR = 0.0001\n",
    "        \n",
    "        X_train, y_train = shuffle(X_train, y_train)\n",
    "        for offset in range(0, num_examples, BATCH_SIZE):\n",
    "            end = offset + BATCH_SIZE\n",
    "            batch_x, batch_y = X_train[offset:end], y_train[offset:end]\n",
    "            sess.run(training_operation, feed_dict={x: batch_x, y: batch_y, keep_prob1: 0.9, keep_prob2: 0.8, \n",
    "                                                    keep_prob3: 0.7, keep_prob: 0.5, rate: LR})\n",
    "            #sess.run(training_operation, feed_dict={x: batch_x, y: batch_y, keep_prob: 0.5, rate: LR})\n",
    "            #sess.run(training_operation, feed_dict={x: batch_x, y: batch_y, k_p_conv:0.6, keep_prob: 0.5 })\n",
    "        \n",
    "        if i%TRAIN_AUGMENT == 0:\n",
    "            print(\"New perturb\")\n",
    "            for n in range(N_AUGMENT):\n",
    "                X_train_perturb[n] = make_perturb_images_float(X_train, keep=0.05)\n",
    "                y_train_perturb[n] = np.copy(y_train)\n",
    "        \n",
    "        for n in range(N_AUGMENT):\n",
    "            X_train_perturb[n], y_train_perturb[n] = shuffle(X_train_perturb[n], y_train_perturb[n])\n",
    "            for offset in range(0, num_examples, BATCH_SIZE):\n",
    "                end = offset + BATCH_SIZE\n",
    "                batch_x, batch_y = X_train_perturb[n][offset:end], y_train_perturb[n][offset:end]\n",
    "                sess.run(training_operation, feed_dict={x: batch_x, y: batch_y, keep_prob1: 0.9, keep_prob2: 0.8, \n",
    "                                                        keep_prob3: 0.7, keep_prob: 0.5, rate: LR})\n",
    "                #sess.run(training_operation, feed_dict={x: batch_x, y: batch_y, keep_prob: 0.5, rate: LR})\n",
    "                #sess.run(training_operation, feed_dict={x: batch_x, y: batch_y, k_p_conv:0.6, keep_prob: 0.5 })\n",
    "            \n",
    "        training_accuracy = evaluate(X_train, y_train)\n",
    "        print(\"EPOCH {} ...\".format(i+1))\n",
    "        print(\"Training Accuracy = {:.3f}\".format(training_accuracy))            \n",
    "        \n",
    "        valid_accuracy = evaluate(X_valid, y_valid)\n",
    "        print(\"Validation Accuracy = {:.4f}\".format(valid_accuracy))\n",
    "        print()\n",
    "        if (valid_accuracy > best_accuracy):\n",
    "            saver.save(sess, './lenet')\n",
    "            print(\"Model saved\")\n",
    "            best_accuracy = valid_accuracy\n",
    "\n",
    "    print(\"Stored model for best validation Accuracy = {:.4f}\".format(best_accuracy))"
   ]
  },
  {
   "cell_type": "code",
   "execution_count": null,
   "metadata": {
    "collapsed": false
   },
   "outputs": [],
   "source": [
    "with tf.Session() as sess:\n",
    "    saver.restore(sess, tf.train.latest_checkpoint('.'))\n",
    "\n",
    "    test_accuracy = evaluate(X_test, y_test)\n",
    "    print(\"Test Accuracy = {:.3f}\".format(test_accuracy))"
   ]
  }
 ],
 "metadata": {
  "anaconda-cloud": {},
  "kernelspec": {
   "display_name": "Python [conda env:pythonx]",
   "language": "python",
   "name": "conda-env-pythonx-py"
  },
  "language_info": {
   "codemirror_mode": {
    "name": "ipython",
    "version": 3
   },
   "file_extension": ".py",
   "mimetype": "text/x-python",
   "name": "python",
   "nbconvert_exporter": "python",
   "pygments_lexer": "ipython3",
   "version": "3.5.2"
  }
 },
 "nbformat": 4,
 "nbformat_minor": 1
}
